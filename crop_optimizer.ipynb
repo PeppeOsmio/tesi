{
 "cells": [
  {
   "cell_type": "code",
   "execution_count": 1,
   "metadata": {},
   "outputs": [
    {
     "name": "stderr",
     "output_type": "stream",
     "text": [
      "2024-07-19 13:33:05.559251: I external/local_tsl/tsl/cuda/cudart_stub.cc:32] Could not find cuda drivers on your machine, GPU will not be used.\n",
      "2024-07-19 13:33:05.561906: I external/local_tsl/tsl/cuda/cudart_stub.cc:32] Could not find cuda drivers on your machine, GPU will not be used.\n",
      "2024-07-19 13:33:05.595546: I tensorflow/core/platform/cpu_feature_guard.cc:210] This TensorFlow binary is optimized to use available CPU instructions in performance-critical operations.\n",
      "To enable the following instructions: AVX2 FMA, in other operations, rebuild TensorFlow with the appropriate compiler flags.\n",
      "2024-07-19 13:33:06.244249: W tensorflow/compiler/tf2tensorrt/utils/py_utils.cc:38] TF-TRT Warning: Could not find TensorRT\n"
     ]
    },
    {
     "name": "stdout",
     "output_type": "stream",
     "text": [
      "Before everything\n"
     ]
    }
   ],
   "source": [
    "from tesi.zappai.utils.genetic import GeneticAlgorithm\n",
    "from tesi.zappai.di import (\n",
    "    get_crop_optimizer_service,\n",
    "    get_session_maker,\n",
    "    get_cds_api,\n",
    "    get_location_repository,\n",
    "    get_past_climate_data_repository,\n",
    "    get_future_climate_data_repository,\n",
    "    get_climate_generative_model_repository,\n",
    "    get_crop_repository,\n",
    "    get_crop_yield_data_repository,\n",
    "    get_crop_yield_model_service,\n",
    ")\n",
    "\n",
    "print(\"Before everything\")\n",
    "\n",
    "session_maker = get_session_maker()\n",
    "cds_api = get_cds_api()\n",
    "location_repository = get_location_repository(session_maker=session_maker)\n",
    "past_climate_data_repository = get_past_climate_data_repository(\n",
    "    session_maker=session_maker,\n",
    "    cds_api=cds_api,\n",
    "    location_repository=location_repository,\n",
    ")\n",
    "future_climate_data_repository = get_future_climate_data_repository(\n",
    "    session_maker=session_maker, cds_api=cds_api\n",
    ")\n",
    "climate_generative_model_repository = get_climate_generative_model_repository(\n",
    "    session_maker=session_maker,\n",
    "    location_repository=location_repository,\n",
    "    past_climate_data_repository=past_climate_data_repository,\n",
    "    future_climate_data_repository=future_climate_data_repository,\n",
    ")\n",
    "crop_repository = get_crop_repository(session_maker=session_maker)\n",
    "crop_yield_data_repository = get_crop_yield_data_repository(\n",
    "    crop_repository=crop_repository,\n",
    "    location_repository=location_repository,\n",
    "    past_climate_data_repository=past_climate_data_repository,\n",
    ")\n",
    "crop_yield_model_service = get_crop_yield_model_service(\n",
    "    past_climate_data_repository=past_climate_data_repository,\n",
    "    location_repository=location_repository,\n",
    "    crop_yield_data_repository=crop_yield_data_repository,\n",
    "    crop_repository=crop_repository,\n",
    ")\n",
    "crop_optimizer_service = get_crop_optimizer_service(\n",
    "    past_climate_data_repository=past_climate_data_repository,\n",
    "    location_repository=location_repository,\n",
    "    climate_generative_model_repository=climate_generative_model_repository,\n",
    "    crop_repository=crop_repository,\n",
    "    future_climate_data_repository=future_climate_data_repository\n",
    ")"
   ]
  },
  {
   "cell_type": "code",
   "execution_count": 2,
   "metadata": {},
   "outputs": [
    {
     "name": "stderr",
     "output_type": "stream",
     "text": [
      "2024-07-19 13:33:07.161158: I external/local_xla/xla/stream_executor/cuda/cuda_executor.cc:998] successful NUMA node read from SysFS had negative value (-1), but there must be at least one NUMA node, so returning NUMA node zero. See more at https://github.com/torvalds/linux/blob/v6.0/Documentation/ABI/testing/sysfs-bus-pci#L344-L355\n",
      "2024-07-19 13:33:07.161662: W tensorflow/core/common_runtime/gpu/gpu_device.cc:2251] Cannot dlopen some GPU libraries. Please make sure the missing libraries mentioned above are installed properly if you would like to use GPU. Follow the guide at https://www.tensorflow.org/install/gpu for how to download and setup the required libraries for your platform.\n",
      "Skipping registering GPU devices...\n"
     ]
    },
    {
     "name": "stdout",
     "output_type": "stream",
     "text": [
      "Sowing: 2024/9\n",
      "Harvesting: 2025/11\n",
      "Duration: 14\n",
      "Estimated yield per hectar: 8635.79017996543\n"
     ]
    }
   ],
   "source": [
    "import pandas as pd\n",
    "from typing import cast\n",
    "from tesi.zappai.di import get_crop_optimizer_service\n",
    "from tesi.zappai.dtos import CropDTO\n",
    "from tesi.zappai.utils.common import enrich_data_frame_with_stats\n",
    "from tesi.zappai.utils.genetic import (\n",
    "    Individual,\n",
    "    Population,\n",
    "    individual_to_int,\n",
    ")\n",
    "from tesi.zappai.services.crop_yield_model_service import (\n",
    "    FEATURES as CROP_YIELD_MODEL_FEATURES,\n",
    ")\n",
    "from sklearn.ensemble import RandomForestRegressor\n",
    "from tesi.zappai.utils.common import calc_months_delta\n",
    "from concurrent.futures import ProcessPoolExecutor\n",
    "\n",
    "\n",
    "location = await location_repository.get_location_by_country_and_name(\n",
    "    \"Italy\", \"Policoro\"\n",
    ")\n",
    "\n",
    "if location is None:\n",
    "    raise Exception()\n",
    "\n",
    "crop = await crop_repository.get_crop_by_name(\"maize\")\n",
    "if crop is None:\n",
    "    raise Exception()\n",
    "\n",
    "result = await crop_optimizer_service.get_best_crop_sowing_and_harvesting(crop_id=crop.id, location_id=location.id)\n",
    "\n",
    "best_combination = result.best_combinations[-1]\n",
    "print(f\"Sowing: {best_combination.sowing_year}/{best_combination.sowing_month}\")\n",
    "print(f\"Harvesting: {best_combination.harvest_year}/{best_combination.harvest_month}\")\n",
    "print(f\"Duration: {best_combination.duration}\")\n",
    "print(f\"Estimated yield per hectar: {best_combination.estimated_yield_per_hectar}\")"
   ]
  }
 ],
 "metadata": {
  "kernelspec": {
   "display_name": ".venv",
   "language": "python",
   "name": "python3"
  },
  "language_info": {
   "codemirror_mode": {
    "name": "ipython",
    "version": 3
   },
   "file_extension": ".py",
   "mimetype": "text/x-python",
   "name": "python",
   "nbconvert_exporter": "python",
   "pygments_lexer": "ipython3",
   "version": "3.10.12"
  }
 },
 "nbformat": 4,
 "nbformat_minor": 2
}
